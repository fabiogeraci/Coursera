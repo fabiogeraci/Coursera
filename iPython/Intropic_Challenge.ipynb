{
  "nbformat": 4,
  "nbformat_minor": 0,
  "metadata": {
    "colab": {
      "name": "Intropic_Challenge.ipynb",
      "provenance": []
    },
    "kernelspec": {
      "name": "python3",
      "display_name": "Python 3"
    }
  },
  "cells": [
    {
      "cell_type": "markdown",
      "metadata": {
        "id": "04Ms04KKa4L5"
      },
      "source": [
        "# Importing necessary libraries"
      ]
    },
    {
      "cell_type": "code",
      "metadata": {
        "id": "7Yu3ZvTMOER-"
      },
      "source": [
        "import pandas as pd\n",
        "import numpy as np\n",
        "import matplotlib.pylab as plt\n",
        "import os\n",
        "import glob"
      ],
      "execution_count": 1,
      "outputs": []
    },
    {
      "cell_type": "markdown",
      "metadata": {
        "id": "VDyepNOXbP2B"
      },
      "source": [
        "# Donwload databases\n",
        "\n",
        "*   Using Google Colab the files are saved into the user personal directory\n",
        "*   if /resources/data does not exists it will be added"
      ]
    },
    {
      "cell_type": "code",
      "metadata": {
        "colab": {
          "base_uri": "https://localhost:8080/"
        },
        "id": "x0oaNH4LMO-V",
        "outputId": "c7373b90-f704-4262-d27c-16061d9ef4a1"
      },
      "source": [
        "!wget http://prod.publicdata.landregistry.gov.uk.s3-website-eu-west-1.amazonaws.com/pp-2020.csv -P /resources/data\n",
        "!wget http://prod.publicdata.landregistry.gov.uk.s3-website-eu-west-1.amazonaws.com/pp-2019.csv -P /resources/data"
      ],
      "execution_count": 5,
      "outputs": [
        {
          "output_type": "stream",
          "text": [
            "--2021-03-14 20:16:17--  http://prod.publicdata.landregistry.gov.uk.s3-website-eu-west-1.amazonaws.com/pp-2020.csv\n",
            "Resolving prod.publicdata.landregistry.gov.uk.s3-website-eu-west-1.amazonaws.com (prod.publicdata.landregistry.gov.uk.s3-website-eu-west-1.amazonaws.com)... 52.218.41.212\n",
            "Connecting to prod.publicdata.landregistry.gov.uk.s3-website-eu-west-1.amazonaws.com (prod.publicdata.landregistry.gov.uk.s3-website-eu-west-1.amazonaws.com)|52.218.41.212|:80... connected.\n",
            "HTTP request sent, awaiting response... 301 Moved Permanently\n",
            "Location: http://prod2.publicdata.landregistry.gov.uk.s3-website-eu-west-1.amazonaws.com/pp-2020.csv [following]\n",
            "--2021-03-14 20:16:18--  http://prod2.publicdata.landregistry.gov.uk.s3-website-eu-west-1.amazonaws.com/pp-2020.csv\n",
            "Resolving prod2.publicdata.landregistry.gov.uk.s3-website-eu-west-1.amazonaws.com (prod2.publicdata.landregistry.gov.uk.s3-website-eu-west-1.amazonaws.com)... 52.218.53.196\n",
            "Connecting to prod2.publicdata.landregistry.gov.uk.s3-website-eu-west-1.amazonaws.com (prod2.publicdata.landregistry.gov.uk.s3-website-eu-west-1.amazonaws.com)|52.218.53.196|:80... connected.\n",
            "HTTP request sent, awaiting response... 200 OK\n",
            "Length: 117165851 (112M) [text/csv]\n",
            "Saving to: ‘/resources/data/pp-2020.csv’\n",
            "\n",
            "pp-2020.csv         100%[===================>] 111.74M  28.4MB/s    in 4.3s    \n",
            "\n",
            "2021-03-14 20:16:22 (25.9 MB/s) - ‘/resources/data/pp-2020.csv’ saved [117165851/117165851]\n",
            "\n",
            "--2021-03-14 20:16:22--  http://prod.publicdata.landregistry.gov.uk.s3-website-eu-west-1.amazonaws.com/pp-2019.csv\n",
            "Resolving prod.publicdata.landregistry.gov.uk.s3-website-eu-west-1.amazonaws.com (prod.publicdata.landregistry.gov.uk.s3-website-eu-west-1.amazonaws.com)... 52.218.37.20\n",
            "Connecting to prod.publicdata.landregistry.gov.uk.s3-website-eu-west-1.amazonaws.com (prod.publicdata.landregistry.gov.uk.s3-website-eu-west-1.amazonaws.com)|52.218.37.20|:80... connected.\n",
            "HTTP request sent, awaiting response... 301 Moved Permanently\n",
            "Location: http://prod2.publicdata.landregistry.gov.uk.s3-website-eu-west-1.amazonaws.com/pp-2019.csv [following]\n",
            "--2021-03-14 20:16:23--  http://prod2.publicdata.landregistry.gov.uk.s3-website-eu-west-1.amazonaws.com/pp-2019.csv\n",
            "Resolving prod2.publicdata.landregistry.gov.uk.s3-website-eu-west-1.amazonaws.com (prod2.publicdata.landregistry.gov.uk.s3-website-eu-west-1.amazonaws.com)... 52.218.28.4\n",
            "Connecting to prod2.publicdata.landregistry.gov.uk.s3-website-eu-west-1.amazonaws.com (prod2.publicdata.landregistry.gov.uk.s3-website-eu-west-1.amazonaws.com)|52.218.28.4|:80... connected.\n",
            "HTTP request sent, awaiting response... 200 OK\n",
            "Length: 173741613 (166M) [text/csv]\n",
            "Saving to: ‘/resources/data/pp-2019.csv’\n",
            "\n",
            "pp-2019.csv         100%[===================>] 165.69M  30.9MB/s    in 6.1s    \n",
            "\n",
            "2021-03-14 20:16:29 (27.3 MB/s) - ‘/resources/data/pp-2019.csv’ saved [173741613/173741613]\n",
            "\n"
          ],
          "name": "stdout"
        }
      ]
    },
    {
      "cell_type": "markdown",
      "metadata": {
        "id": "PQq7f4mIcNm3"
      },
      "source": [
        "# File to DataFrame\n",
        "\n",
        "A list is compiled containing all the dataframes created\n",
        "\n"
      ]
    },
    {
      "cell_type": "code",
      "metadata": {
        "colab": {
          "base_uri": "https://localhost:8080/"
        },
        "id": "i_6oFBKEG959",
        "outputId": "ea66e483-86df-4994-b440-4a6bab81dc44"
      },
      "source": [
        "path = r'/resources/data'\n",
        "all_files = glob.glob(path + \"/*.csv\")\n",
        "\n",
        "all_dfs = []\n",
        "\n",
        "for filename in all_files:\n",
        "  pd_name = 'ppd_year_' + filename.split('.')[0][-4:]\n",
        "  print(pd_name)\n",
        "  pd_name = pd.read_csv(filename, index_col=None, header=0)\n",
        "  all_dfs.append(pd_name)"
      ],
      "execution_count": 6,
      "outputs": [
        {
          "output_type": "stream",
          "text": [
            "ppd_year_2019\n",
            "ppd_year_2020\n"
          ],
          "name": "stdout"
        }
      ]
    },
    {
      "cell_type": "markdown",
      "metadata": {
        "id": "bYtvbln-csJS"
      },
      "source": [
        "# Adding column name to the respective columns "
      ]
    },
    {
      "cell_type": "code",
      "metadata": {
        "id": "1hkNdJYnRWsz"
      },
      "source": [
        "for df in all_dfs:\n",
        "    df.columns = ['Tuid', 'Price', 'DateOfTrasfer', 'Postcode','Prop_Type', 'Old/New', 'Duration', 'PAON', 'SAON', 'Street', 'Locality', 'Town/City', 'District', 'County', 'PPD', 'Record Status']"
      ],
      "execution_count": 7,
      "outputs": []
    },
    {
      "cell_type": "markdown",
      "metadata": {
        "id": "0oL4u_klczoN"
      },
      "source": [
        "# Price Paid DataFrame is concateneted from the list of the dataframes"
      ]
    },
    {
      "cell_type": "code",
      "metadata": {
        "id": "kzjR21FnOFrj"
      },
      "source": [
        "price_paid_data = pd.concat(all_dfs).reset_index(drop=True)"
      ],
      "execution_count": 8,
      "outputs": []
    },
    {
      "cell_type": "code",
      "metadata": {
        "colab": {
          "base_uri": "https://localhost:8080/",
          "height": 531
        },
        "id": "xg9824KpOnp-",
        "outputId": "87f87819-a295-4025-e6a0-80d6ce75629b"
      },
      "source": [
        "price_paid_data.head(10)"
      ],
      "execution_count": 9,
      "outputs": [
        {
          "output_type": "execute_result",
          "data": {
            "text/html": [
              "<div>\n",
              "<style scoped>\n",
              "    .dataframe tbody tr th:only-of-type {\n",
              "        vertical-align: middle;\n",
              "    }\n",
              "\n",
              "    .dataframe tbody tr th {\n",
              "        vertical-align: top;\n",
              "    }\n",
              "\n",
              "    .dataframe thead th {\n",
              "        text-align: right;\n",
              "    }\n",
              "</style>\n",
              "<table border=\"1\" class=\"dataframe\">\n",
              "  <thead>\n",
              "    <tr style=\"text-align: right;\">\n",
              "      <th></th>\n",
              "      <th>Tuid</th>\n",
              "      <th>Price</th>\n",
              "      <th>DateOfTrasfer</th>\n",
              "      <th>Postcode</th>\n",
              "      <th>Prop_Type</th>\n",
              "      <th>Old/New</th>\n",
              "      <th>Duration</th>\n",
              "      <th>PAON</th>\n",
              "      <th>SAON</th>\n",
              "      <th>Street</th>\n",
              "      <th>Locality</th>\n",
              "      <th>Town/City</th>\n",
              "      <th>District</th>\n",
              "      <th>County</th>\n",
              "      <th>PPD</th>\n",
              "      <th>Record Status</th>\n",
              "    </tr>\n",
              "  </thead>\n",
              "  <tbody>\n",
              "    <tr>\n",
              "      <th>0</th>\n",
              "      <td>{8F1B26BD-60CB-53DB-E053-6C04A8C03649}</td>\n",
              "      <td>246995</td>\n",
              "      <td>2019-03-29 00:00</td>\n",
              "      <td>TS15 9ZH</td>\n",
              "      <td>D</td>\n",
              "      <td>Y</td>\n",
              "      <td>F</td>\n",
              "      <td>16</td>\n",
              "      <td>NaN</td>\n",
              "      <td>GRESLEY CLOSE</td>\n",
              "      <td>NaN</td>\n",
              "      <td>YARM</td>\n",
              "      <td>STOCKTON-ON-TEES</td>\n",
              "      <td>STOCKTON-ON-TEES</td>\n",
              "      <td>A</td>\n",
              "      <td>A</td>\n",
              "    </tr>\n",
              "    <tr>\n",
              "      <th>1</th>\n",
              "      <td>{8F1B26BD-60CC-53DB-E053-6C04A8C03649}</td>\n",
              "      <td>244950</td>\n",
              "      <td>2019-05-17 00:00</td>\n",
              "      <td>TS18 2FN</td>\n",
              "      <td>T</td>\n",
              "      <td>Y</td>\n",
              "      <td>F</td>\n",
              "      <td>13</td>\n",
              "      <td>NaN</td>\n",
              "      <td>INFINITY VIEW</td>\n",
              "      <td>NaN</td>\n",
              "      <td>STOCKTON-ON-TEES</td>\n",
              "      <td>STOCKTON-ON-TEES</td>\n",
              "      <td>STOCKTON-ON-TEES</td>\n",
              "      <td>A</td>\n",
              "      <td>A</td>\n",
              "    </tr>\n",
              "    <tr>\n",
              "      <th>2</th>\n",
              "      <td>{8F1B26BD-60CD-53DB-E053-6C04A8C03649}</td>\n",
              "      <td>139950</td>\n",
              "      <td>2019-05-31 00:00</td>\n",
              "      <td>TS18 2FN</td>\n",
              "      <td>S</td>\n",
              "      <td>Y</td>\n",
              "      <td>F</td>\n",
              "      <td>40</td>\n",
              "      <td>NaN</td>\n",
              "      <td>INFINITY VIEW</td>\n",
              "      <td>NaN</td>\n",
              "      <td>STOCKTON-ON-TEES</td>\n",
              "      <td>STOCKTON-ON-TEES</td>\n",
              "      <td>STOCKTON-ON-TEES</td>\n",
              "      <td>A</td>\n",
              "      <td>A</td>\n",
              "    </tr>\n",
              "    <tr>\n",
              "      <th>3</th>\n",
              "      <td>{8F1B26BD-60CE-53DB-E053-6C04A8C03649}</td>\n",
              "      <td>271995</td>\n",
              "      <td>2019-05-31 00:00</td>\n",
              "      <td>TS15 9FD</td>\n",
              "      <td>D</td>\n",
              "      <td>Y</td>\n",
              "      <td>F</td>\n",
              "      <td>27</td>\n",
              "      <td>NaN</td>\n",
              "      <td>MALLARD DRIVE</td>\n",
              "      <td>NaN</td>\n",
              "      <td>YARM</td>\n",
              "      <td>STOCKTON-ON-TEES</td>\n",
              "      <td>STOCKTON-ON-TEES</td>\n",
              "      <td>A</td>\n",
              "      <td>A</td>\n",
              "    </tr>\n",
              "    <tr>\n",
              "      <th>4</th>\n",
              "      <td>{8F1B26BD-60CF-53DB-E053-6C04A8C03649}</td>\n",
              "      <td>84450</td>\n",
              "      <td>2019-04-26 00:00</td>\n",
              "      <td>TS18 2FD</td>\n",
              "      <td>T</td>\n",
              "      <td>Y</td>\n",
              "      <td>F</td>\n",
              "      <td>117</td>\n",
              "      <td>NaN</td>\n",
              "      <td>DEEPDALE AVENUE</td>\n",
              "      <td>NaN</td>\n",
              "      <td>STOCKTON-ON-TEES</td>\n",
              "      <td>STOCKTON-ON-TEES</td>\n",
              "      <td>STOCKTON-ON-TEES</td>\n",
              "      <td>A</td>\n",
              "      <td>A</td>\n",
              "    </tr>\n",
              "    <tr>\n",
              "      <th>5</th>\n",
              "      <td>{8F1B26BD-60D0-53DB-E053-6C04A8C03649}</td>\n",
              "      <td>354950</td>\n",
              "      <td>2019-04-29 00:00</td>\n",
              "      <td>TS17 5JS</td>\n",
              "      <td>D</td>\n",
              "      <td>Y</td>\n",
              "      <td>F</td>\n",
              "      <td>6</td>\n",
              "      <td>NaN</td>\n",
              "      <td>PAGAN DRIVE</td>\n",
              "      <td>INGLEBY BARWICK</td>\n",
              "      <td>STOCKTON-ON-TEES</td>\n",
              "      <td>STOCKTON-ON-TEES</td>\n",
              "      <td>STOCKTON-ON-TEES</td>\n",
              "      <td>A</td>\n",
              "      <td>A</td>\n",
              "    </tr>\n",
              "    <tr>\n",
              "      <th>6</th>\n",
              "      <td>{8F1B26BD-60D1-53DB-E053-6C04A8C03649}</td>\n",
              "      <td>279950</td>\n",
              "      <td>2019-05-31 00:00</td>\n",
              "      <td>TS17 5JP</td>\n",
              "      <td>D</td>\n",
              "      <td>Y</td>\n",
              "      <td>F</td>\n",
              "      <td>1</td>\n",
              "      <td>NaN</td>\n",
              "      <td>DUBRIS CLOSE</td>\n",
              "      <td>INGLEBY BARWICK</td>\n",
              "      <td>STOCKTON-ON-TEES</td>\n",
              "      <td>STOCKTON-ON-TEES</td>\n",
              "      <td>STOCKTON-ON-TEES</td>\n",
              "      <td>A</td>\n",
              "      <td>A</td>\n",
              "    </tr>\n",
              "    <tr>\n",
              "      <th>7</th>\n",
              "      <td>{8F1B26BD-60D5-53DB-E053-6C04A8C03649}</td>\n",
              "      <td>115000</td>\n",
              "      <td>2019-05-03 00:00</td>\n",
              "      <td>TS26 0NW</td>\n",
              "      <td>F</td>\n",
              "      <td>Y</td>\n",
              "      <td>L</td>\n",
              "      <td>HARTFIELDS MANOR</td>\n",
              "      <td>APARTMENT 317</td>\n",
              "      <td>HARTFIELDS</td>\n",
              "      <td>NaN</td>\n",
              "      <td>HARTLEPOOL</td>\n",
              "      <td>HARTLEPOOL</td>\n",
              "      <td>HARTLEPOOL</td>\n",
              "      <td>A</td>\n",
              "      <td>A</td>\n",
              "    </tr>\n",
              "    <tr>\n",
              "      <th>8</th>\n",
              "      <td>{8F1B26BD-60D6-53DB-E053-6C04A8C03649}</td>\n",
              "      <td>145950</td>\n",
              "      <td>2019-05-31 00:00</td>\n",
              "      <td>TS8 9GG</td>\n",
              "      <td>T</td>\n",
              "      <td>Y</td>\n",
              "      <td>F</td>\n",
              "      <td>3</td>\n",
              "      <td>NaN</td>\n",
              "      <td>STUTEVILLE ROW</td>\n",
              "      <td>HEMLINGTON</td>\n",
              "      <td>MIDDLESBROUGH</td>\n",
              "      <td>MIDDLESBROUGH</td>\n",
              "      <td>MIDDLESBROUGH</td>\n",
              "      <td>A</td>\n",
              "      <td>A</td>\n",
              "    </tr>\n",
              "    <tr>\n",
              "      <th>9</th>\n",
              "      <td>{8F1B26BD-60D7-53DB-E053-6C04A8C03649}</td>\n",
              "      <td>158950</td>\n",
              "      <td>2019-05-31 00:00</td>\n",
              "      <td>TS17 5FF</td>\n",
              "      <td>S</td>\n",
              "      <td>Y</td>\n",
              "      <td>F</td>\n",
              "      <td>42</td>\n",
              "      <td>NaN</td>\n",
              "      <td>CARRAWBURGH ROAD</td>\n",
              "      <td>INGLEBY BARWICK</td>\n",
              "      <td>STOCKTON-ON-TEES</td>\n",
              "      <td>STOCKTON-ON-TEES</td>\n",
              "      <td>STOCKTON-ON-TEES</td>\n",
              "      <td>A</td>\n",
              "      <td>A</td>\n",
              "    </tr>\n",
              "  </tbody>\n",
              "</table>\n",
              "</div>"
            ],
            "text/plain": [
              "                                     Tuid   Price  ... PPD Record Status\n",
              "0  {8F1B26BD-60CB-53DB-E053-6C04A8C03649}  246995  ...   A             A\n",
              "1  {8F1B26BD-60CC-53DB-E053-6C04A8C03649}  244950  ...   A             A\n",
              "2  {8F1B26BD-60CD-53DB-E053-6C04A8C03649}  139950  ...   A             A\n",
              "3  {8F1B26BD-60CE-53DB-E053-6C04A8C03649}  271995  ...   A             A\n",
              "4  {8F1B26BD-60CF-53DB-E053-6C04A8C03649}   84450  ...   A             A\n",
              "5  {8F1B26BD-60D0-53DB-E053-6C04A8C03649}  354950  ...   A             A\n",
              "6  {8F1B26BD-60D1-53DB-E053-6C04A8C03649}  279950  ...   A             A\n",
              "7  {8F1B26BD-60D5-53DB-E053-6C04A8C03649}  115000  ...   A             A\n",
              "8  {8F1B26BD-60D6-53DB-E053-6C04A8C03649}  145950  ...   A             A\n",
              "9  {8F1B26BD-60D7-53DB-E053-6C04A8C03649}  158950  ...   A             A\n",
              "\n",
              "[10 rows x 16 columns]"
            ]
          },
          "metadata": {
            "tags": []
          },
          "execution_count": 9
        }
      ]
    },
    {
      "cell_type": "markdown",
      "metadata": {
        "id": "4Y9L8uKggmZF"
      },
      "source": [
        "# Most expensive houses by county\n",
        "\n",
        "This function that will take price paid data and return another DataFrame containing the\n",
        "full details of the largest transaction occurring within each county present in the data."
      ]
    },
    {
      "cell_type": "code",
      "metadata": {
        "id": "TfSar5CPRDUX"
      },
      "source": [
        "def max_price_grp(df):\n",
        "  # grouping by County and finding the max price\n",
        "  grp_county = df.groupby('County')['Price'].max().reset_index()\n",
        "\n",
        "  return grp_county"
      ],
      "execution_count": 47,
      "outputs": []
    },
    {
      "cell_type": "code",
      "metadata": {
        "colab": {
          "base_uri": "https://localhost:8080/",
          "height": 197
        },
        "id": "sk8-YiXzy5R4",
        "outputId": "8e9615bc-fba3-4266-f8d4-34657286fe19"
      },
      "source": [
        "max_price_per_county = max_price_grp(price_paid_data)\n",
        "max_price_per_county.head()"
      ],
      "execution_count": 48,
      "outputs": [
        {
          "output_type": "execute_result",
          "data": {
            "text/html": [
              "<div>\n",
              "<style scoped>\n",
              "    .dataframe tbody tr th:only-of-type {\n",
              "        vertical-align: middle;\n",
              "    }\n",
              "\n",
              "    .dataframe tbody tr th {\n",
              "        vertical-align: top;\n",
              "    }\n",
              "\n",
              "    .dataframe thead th {\n",
              "        text-align: right;\n",
              "    }\n",
              "</style>\n",
              "<table border=\"1\" class=\"dataframe\">\n",
              "  <thead>\n",
              "    <tr style=\"text-align: right;\">\n",
              "      <th></th>\n",
              "      <th>County</th>\n",
              "      <th>Price</th>\n",
              "    </tr>\n",
              "  </thead>\n",
              "  <tbody>\n",
              "    <tr>\n",
              "      <th>0</th>\n",
              "      <td>BATH AND NORTH EAST SOMERSET</td>\n",
              "      <td>139030009</td>\n",
              "    </tr>\n",
              "    <tr>\n",
              "      <th>1</th>\n",
              "      <td>BEDFORD</td>\n",
              "      <td>22457255</td>\n",
              "    </tr>\n",
              "    <tr>\n",
              "      <th>2</th>\n",
              "      <td>BLACKBURN WITH DARWEN</td>\n",
              "      <td>25000000</td>\n",
              "    </tr>\n",
              "    <tr>\n",
              "      <th>3</th>\n",
              "      <td>BLACKPOOL</td>\n",
              "      <td>5000000</td>\n",
              "    </tr>\n",
              "    <tr>\n",
              "      <th>4</th>\n",
              "      <td>BLAENAU GWENT</td>\n",
              "      <td>3475000</td>\n",
              "    </tr>\n",
              "  </tbody>\n",
              "</table>\n",
              "</div>"
            ],
            "text/plain": [
              "                         County      Price\n",
              "0  BATH AND NORTH EAST SOMERSET  139030009\n",
              "1                       BEDFORD   22457255\n",
              "2         BLACKBURN WITH DARWEN   25000000\n",
              "3                     BLACKPOOL    5000000\n",
              "4                 BLAENAU GWENT    3475000"
            ]
          },
          "metadata": {
            "tags": []
          },
          "execution_count": 48
        }
      ]
    },
    {
      "cell_type": "markdown",
      "metadata": {
        "id": "Demlab8Pg-Ri"
      },
      "source": [
        "# Top 5 districts by quarterly transaction value\n",
        "\n",
        "This function that will take price paid data and return a DataFrame (indexed by quarter)\n",
        "giving the 5 postcode districts (i.e. AB1 2CD => AB1) with the largest total transaction value for\n",
        "each quarter (and these values)."
      ]
    },
    {
      "cell_type": "code",
      "metadata": {
        "id": "u4qPsdLtjti0"
      },
      "source": [
        "def max_price_quarter(df):\n",
        "\n",
        "  df=df.copy()\n",
        "  # to work only with dates (day)\n",
        "  df.DateOfTrasfer = pd.to_datetime(df.DateOfTrasfer)\n",
        "  # defining a column containing quarters Q1, Q2, Q3, Q4\n",
        "  df['quarter'] = pd.PeriodIndex(df.DateOfTrasfer, freq='Q').astype(str).str[-2:]\n",
        "  # grouping and calculating max value\n",
        "  df = df.groupby(['quarter', 'District', 'Postcode'])['Price'].max()\n",
        "  # grouping quarter and district, returing the top 5 \n",
        "  df = df.groupby(level=[0,1]).head(5).reset_index()\n",
        "  # sorting the dataframe\n",
        "  df.sort_values(['quarter', 'District'], ascending=(True, False))\n",
        "  # split the postcode by space and returns the first part of the postcode\n",
        "  df['Postcode'] = df.Postcode.str.split(' ', 0, expand=True)\n",
        "\n",
        "  df.set_index('quarter', inplace=True)\n",
        "\n",
        "  return df"
      ],
      "execution_count": 90,
      "outputs": []
    },
    {
      "cell_type": "code",
      "metadata": {
        "id": "9255nGnelmYF",
        "colab": {
          "base_uri": "https://localhost:8080/",
          "height": 436
        },
        "outputId": "9001fded-dd56-491a-f81f-4d06b38663db"
      },
      "source": [
        "max_price_per_quarter = max_price_quarter(price_paid_data)\n",
        "max_price_per_quarter"
      ],
      "execution_count": 93,
      "outputs": [
        {
          "output_type": "execute_result",
          "data": {
            "text/html": [
              "<div>\n",
              "<style scoped>\n",
              "    .dataframe tbody tr th:only-of-type {\n",
              "        vertical-align: middle;\n",
              "    }\n",
              "\n",
              "    .dataframe tbody tr th {\n",
              "        vertical-align: top;\n",
              "    }\n",
              "\n",
              "    .dataframe thead th {\n",
              "        text-align: right;\n",
              "    }\n",
              "</style>\n",
              "<table border=\"1\" class=\"dataframe\">\n",
              "  <thead>\n",
              "    <tr style=\"text-align: right;\">\n",
              "      <th></th>\n",
              "      <th>District</th>\n",
              "      <th>Postcode</th>\n",
              "      <th>Price</th>\n",
              "    </tr>\n",
              "    <tr>\n",
              "      <th>quarter</th>\n",
              "      <th></th>\n",
              "      <th></th>\n",
              "      <th></th>\n",
              "    </tr>\n",
              "  </thead>\n",
              "  <tbody>\n",
              "    <tr>\n",
              "      <th>Q1</th>\n",
              "      <td>ADUR</td>\n",
              "      <td>BN14</td>\n",
              "      <td>342000</td>\n",
              "    </tr>\n",
              "    <tr>\n",
              "      <th>Q1</th>\n",
              "      <td>ADUR</td>\n",
              "      <td>BN15</td>\n",
              "      <td>290000</td>\n",
              "    </tr>\n",
              "    <tr>\n",
              "      <th>Q1</th>\n",
              "      <td>ADUR</td>\n",
              "      <td>BN15</td>\n",
              "      <td>533500</td>\n",
              "    </tr>\n",
              "    <tr>\n",
              "      <th>Q1</th>\n",
              "      <td>ADUR</td>\n",
              "      <td>BN15</td>\n",
              "      <td>192500</td>\n",
              "    </tr>\n",
              "    <tr>\n",
              "      <th>Q1</th>\n",
              "      <td>ADUR</td>\n",
              "      <td>BN15</td>\n",
              "      <td>270000</td>\n",
              "    </tr>\n",
              "    <tr>\n",
              "      <th>...</th>\n",
              "      <td>...</td>\n",
              "      <td>...</td>\n",
              "      <td>...</td>\n",
              "    </tr>\n",
              "    <tr>\n",
              "      <th>Q4</th>\n",
              "      <td>YORK</td>\n",
              "      <td>DL7</td>\n",
              "      <td>355000</td>\n",
              "    </tr>\n",
              "    <tr>\n",
              "      <th>Q4</th>\n",
              "      <td>YORK</td>\n",
              "      <td>YO1</td>\n",
              "      <td>255000</td>\n",
              "    </tr>\n",
              "    <tr>\n",
              "      <th>Q4</th>\n",
              "      <td>YORK</td>\n",
              "      <td>YO1</td>\n",
              "      <td>270000</td>\n",
              "    </tr>\n",
              "    <tr>\n",
              "      <th>Q4</th>\n",
              "      <td>YORK</td>\n",
              "      <td>YO1</td>\n",
              "      <td>225000</td>\n",
              "    </tr>\n",
              "    <tr>\n",
              "      <th>Q4</th>\n",
              "      <td>YORK</td>\n",
              "      <td>YO1</td>\n",
              "      <td>220000</td>\n",
              "    </tr>\n",
              "  </tbody>\n",
              "</table>\n",
              "<p>6884 rows × 3 columns</p>\n",
              "</div>"
            ],
            "text/plain": [
              "        District Postcode   Price\n",
              "quarter                          \n",
              "Q1          ADUR     BN14  342000\n",
              "Q1          ADUR     BN15  290000\n",
              "Q1          ADUR     BN15  533500\n",
              "Q1          ADUR     BN15  192500\n",
              "Q1          ADUR     BN15  270000\n",
              "...          ...      ...     ...\n",
              "Q4          YORK      DL7  355000\n",
              "Q4          YORK      YO1  255000\n",
              "Q4          YORK      YO1  270000\n",
              "Q4          YORK      YO1  225000\n",
              "Q4          YORK      YO1  220000\n",
              "\n",
              "[6884 rows x 3 columns]"
            ]
          },
          "metadata": {
            "tags": []
          },
          "execution_count": 93
        }
      ]
    },
    {
      "cell_type": "markdown",
      "metadata": {
        "id": "tHUEiN1UhbEO"
      },
      "source": [
        "# Transaction value concentration\n",
        "\n",
        "This function that will take price paid data and return a DataFrame, indexed by year and\n",
        "with one column for each property type, giving the percentage of transactions (in descending\n",
        "order of size) that account for 80% of the total transaction value occurring for that property type\n",
        "for each year."
      ]
    },
    {
      "cell_type": "code",
      "metadata": {
        "id": "u0KiKjqPqLLp"
      },
      "source": [
        "def trans_value_conc(df):\n",
        "\n",
        "  df=df.copy()\n",
        "  # to work only with dates (day)\n",
        "  df.DateOfTrasfer = pd.to_datetime(df.DateOfTrasfer)\n",
        "  # defining a column containing the year\n",
        "  df['year'] = pd.PeriodIndex(df.DateOfTrasfer, freq='A')\n",
        "  # format the values in the dataframe\n",
        "  pd.options.display.float_format = '£{:,.2f}'.format\n",
        "  # create a new column for each property type\n",
        "  # calculates the 80% of the paid price \n",
        "  df['pt_D'] = np.where(df['Prop_Type']=='D', df['Price']*0.8, 0)\n",
        "  df['pt_S'] = np.where(df['Prop_Type']=='S', df['Price']*0.8, 0)\n",
        "  df['pt_T'] = np.where(df['Prop_Type']=='T', df['Price']*0.8, 0)\n",
        "  df['pt_F'] = np.where(df['Prop_Type']=='F', df['Price']*0.8, 0)\n",
        "  df['pt_O'] = np.where(df['Prop_Type']=='O', df['Price']*0.8, 0)\n",
        "\n",
        "  # df.drop('Prop_Type', axis=1)\n",
        "\n",
        "  df = df.set_index('year')\n",
        "  # grouping by index and calculating the total transaction value for each type\n",
        "  df = df.groupby(df.index).agg({'pt_D':sum, 'pt_S':sum, 'pt_T':sum, 'pt_F':sum, 'pt_O':sum})\n",
        "\n",
        "  return df"
      ],
      "execution_count": 80,
      "outputs": []
    },
    {
      "cell_type": "code",
      "metadata": {
        "colab": {
          "base_uri": "https://localhost:8080/",
          "height": 137
        },
        "id": "9iily3hP7aQS",
        "outputId": "028ba170-c97c-4183-86df-ad7fa31954e9"
      },
      "source": [
        "trans_sum = trans_value_conc(price_paid_data)\n",
        "trans_sum"
      ],
      "execution_count": 81,
      "outputs": [
        {
          "output_type": "execute_result",
          "data": {
            "text/html": [
              "<div>\n",
              "<style scoped>\n",
              "    .dataframe tbody tr th:only-of-type {\n",
              "        vertical-align: middle;\n",
              "    }\n",
              "\n",
              "    .dataframe tbody tr th {\n",
              "        vertical-align: top;\n",
              "    }\n",
              "\n",
              "    .dataframe thead th {\n",
              "        text-align: right;\n",
              "    }\n",
              "</style>\n",
              "<table border=\"1\" class=\"dataframe\">\n",
              "  <thead>\n",
              "    <tr style=\"text-align: right;\">\n",
              "      <th></th>\n",
              "      <th>pt_D</th>\n",
              "      <th>pt_S</th>\n",
              "      <th>pt_T</th>\n",
              "      <th>pt_F</th>\n",
              "      <th>pt_O</th>\n",
              "    </tr>\n",
              "    <tr>\n",
              "      <th>year</th>\n",
              "      <th></th>\n",
              "      <th></th>\n",
              "      <th></th>\n",
              "      <th></th>\n",
              "      <th></th>\n",
              "    </tr>\n",
              "  </thead>\n",
              "  <tbody>\n",
              "    <tr>\n",
              "      <th>2019</th>\n",
              "      <td>£75,706,616,738.40</td>\n",
              "      <td>£54,278,671,798.40</td>\n",
              "      <td>£50,679,192,069.60</td>\n",
              "      <td>£41,355,572,252.80</td>\n",
              "      <td>£57,356,379,532.00</td>\n",
              "    </tr>\n",
              "    <tr>\n",
              "      <th>2020</th>\n",
              "      <td>£56,653,368,791.20</td>\n",
              "      <td>£40,107,438,449.60</td>\n",
              "      <td>£38,452,272,940.00</td>\n",
              "      <td>£24,671,770,388.00</td>\n",
              "      <td>£35,935,940,321.60</td>\n",
              "    </tr>\n",
              "  </tbody>\n",
              "</table>\n",
              "</div>"
            ],
            "text/plain": [
              "                   pt_D  ...               pt_O\n",
              "year                     ...                   \n",
              "2019 £75,706,616,738.40  ... £57,356,379,532.00\n",
              "2020 £56,653,368,791.20  ... £35,935,940,321.60\n",
              "\n",
              "[2 rows x 5 columns]"
            ]
          },
          "metadata": {
            "tags": []
          },
          "execution_count": 81
        }
      ]
    },
    {
      "cell_type": "markdown",
      "metadata": {
        "id": "v_zE-ZJshkDs"
      },
      "source": [
        "# Volume & median price comparisons\n",
        "This function will take two subsets of price paid data and returns a DataFrame\n",
        "showing the percentage change in the number of transactions and their median price between\n",
        "the two datasets, broken down by each of the following price brackets:\n",
        "\n",
        "*   £0 < x <= £250,000\n",
        "*   £250,000 < x <= £500,000\n",
        "*   £500,000 < x <= £750,000\n",
        "*   £750,000 < x <= £1,000,000\n",
        "*   £1,000,000 < x <= £2,000,000\n",
        "*   £2,000,000 < x <= £5,000,000\n",
        "*   £5,000,000+\n",
        "\n",
        "The return value should be a DataFrame, indexed by price bracket expressed as a 2-tuple, and\n",
        "with columns for % change in transaction volume & % change in median price.\n",
        "\n",
        "Since only two subsets are required, the function is not adaptable if more subset are needed."
      ]
    },
    {
      "cell_type": "code",
      "metadata": {
        "id": "yo-Y-TO3BD0o"
      },
      "source": [
        "def volume_median_price(df):\n",
        "\n",
        "  # creating the two sets\n",
        "  df_1 = df[0]\n",
        "  df_2 = df[1]\n",
        "  # price ranges\n",
        "  bins = [0,250000,500000,750000,1000000,2000000,5000000, np.inf]\n",
        "  # labels for index\n",
        "  labels=[(0, 250000),(250000, 500000),(500000, 750000),\n",
        "          (750000, 1000000), (1000000, 2000000),\n",
        "          (2000000, 5000000), (5000000,)]\n",
        "  # grouping and slicing by price ranges\n",
        "  # calculating the total transactions and median price  \n",
        "  df_1 = df_1.groupby(pd.cut(df_1['Price'], bins=bins, labels=labels)).agg({'Postcode':'size', 'Price':'median'})\\\n",
        "  .rename(columns={'Postcode':'count_1','Price':'Price_Median_1'})\n",
        "\n",
        "  df_2 = df_2.groupby(pd.cut(df_2['Price'], bins=bins, labels=labels)).agg({'PPD':'size', 'Price':'median'})\\\n",
        "  .rename(columns={'PPD':'count_2','Price':'Price_Median_2'})\n",
        "  # concataneting into one dataframe\n",
        "  df = pd.concat([df_1, df_2], axis=1)\n",
        "  # calculating count and median price percentage between the subsets\n",
        "  df['count_pct_change'] = (df.count_1 - df.count_2) / df.count_1\n",
        "  df['Median_Pct_Change'] = (df.Price_Median_1 - df.Price_Median_2) / df.Price_Median_1\n",
        "  \n",
        "  cols = [0,1,2,3]\n",
        "  df.drop(df.columns[cols],axis=1,inplace=True)\n",
        "\n",
        "  df = df.style.format({\n",
        "    'count_pct_change': '{:.2%}',\n",
        "    'Median_Pct_Change': '{:.2%}'}).set_properties(**{'text-align': 'center'})\n",
        "\n",
        "  return df\n"
      ],
      "execution_count": 57,
      "outputs": []
    },
    {
      "cell_type": "code",
      "metadata": {
        "colab": {
          "base_uri": "https://localhost:8080/",
          "height": 233
        },
        "id": "zTZM_AwcEqGI",
        "outputId": "533b2e3d-6daf-443a-fee6-2345295735ec"
      },
      "source": [
        "vol_price_median = volume_median_price(all_dfs)\n",
        "vol_price_median"
      ],
      "execution_count": 82,
      "outputs": [
        {
          "output_type": "stream",
          "text": [
            "/usr/local/lib/python3.7/dist-packages/pandas/core/dtypes/cast.py:1231: VisibleDeprecationWarning: Creating an ndarray from ragged nested sequences (which is a list-or-tuple of lists-or-tuples-or ndarrays with different lengths or shapes) is deprecated. If you meant to do this, you must specify 'dtype=object' when creating the ndarray\n",
            "  v = np.array(v, copy=False)\n"
          ],
          "name": "stderr"
        },
        {
          "output_type": "execute_result",
          "data": {
            "text/html": [
              "<style  type=\"text/css\" >\n",
              "#T_fa8de30e_8509_11eb_a2b3_0242ac1c0002row0_col0,#T_fa8de30e_8509_11eb_a2b3_0242ac1c0002row0_col1,#T_fa8de30e_8509_11eb_a2b3_0242ac1c0002row1_col0,#T_fa8de30e_8509_11eb_a2b3_0242ac1c0002row1_col1,#T_fa8de30e_8509_11eb_a2b3_0242ac1c0002row2_col0,#T_fa8de30e_8509_11eb_a2b3_0242ac1c0002row2_col1,#T_fa8de30e_8509_11eb_a2b3_0242ac1c0002row3_col0,#T_fa8de30e_8509_11eb_a2b3_0242ac1c0002row3_col1,#T_fa8de30e_8509_11eb_a2b3_0242ac1c0002row4_col0,#T_fa8de30e_8509_11eb_a2b3_0242ac1c0002row4_col1,#T_fa8de30e_8509_11eb_a2b3_0242ac1c0002row5_col0,#T_fa8de30e_8509_11eb_a2b3_0242ac1c0002row5_col1,#T_fa8de30e_8509_11eb_a2b3_0242ac1c0002row6_col0,#T_fa8de30e_8509_11eb_a2b3_0242ac1c0002row6_col1{\n",
              "            text-align:  center;\n",
              "        }</style><table id=\"T_fa8de30e_8509_11eb_a2b3_0242ac1c0002\" ><thead>    <tr>        <th class=\"blank level0\" ></th>        <th class=\"col_heading level0 col0\" >count_pct_change</th>        <th class=\"col_heading level0 col1\" >Median_Pct_Change</th>    </tr>    <tr>        <th class=\"index_name level0\" >Price</th>        <th class=\"blank\" ></th>        <th class=\"blank\" ></th>    </tr></thead><tbody>\n",
              "                <tr>\n",
              "                        <th id=\"T_fa8de30e_8509_11eb_a2b3_0242ac1c0002level0_row0\" class=\"row_heading level0 row0\" >(0, 250000)</th>\n",
              "                        <td id=\"T_fa8de30e_8509_11eb_a2b3_0242ac1c0002row0_col0\" class=\"data row0 col0\" >35.43%</td>\n",
              "                        <td id=\"T_fa8de30e_8509_11eb_a2b3_0242ac1c0002row0_col1\" class=\"data row0 col1\" >-0.96%</td>\n",
              "            </tr>\n",
              "            <tr>\n",
              "                        <th id=\"T_fa8de30e_8509_11eb_a2b3_0242ac1c0002level0_row1\" class=\"row_heading level0 row1\" >(250000, 500000)</th>\n",
              "                        <td id=\"T_fa8de30e_8509_11eb_a2b3_0242ac1c0002row1_col0\" class=\"data row1 col0\" >30.79%</td>\n",
              "                        <td id=\"T_fa8de30e_8509_11eb_a2b3_0242ac1c0002row1_col1\" class=\"data row1 col1\" >-0.90%</td>\n",
              "            </tr>\n",
              "            <tr>\n",
              "                        <th id=\"T_fa8de30e_8509_11eb_a2b3_0242ac1c0002level0_row2\" class=\"row_heading level0 row2\" >(500000, 750000)</th>\n",
              "                        <td id=\"T_fa8de30e_8509_11eb_a2b3_0242ac1c0002row2_col0\" class=\"data row2 col0\" >24.13%</td>\n",
              "                        <td id=\"T_fa8de30e_8509_11eb_a2b3_0242ac1c0002row2_col1\" class=\"data row2 col1\" >0.00%</td>\n",
              "            </tr>\n",
              "            <tr>\n",
              "                        <th id=\"T_fa8de30e_8509_11eb_a2b3_0242ac1c0002level0_row3\" class=\"row_heading level0 row3\" >(750000, 1000000)</th>\n",
              "                        <td id=\"T_fa8de30e_8509_11eb_a2b3_0242ac1c0002row3_col0\" class=\"data row3 col0\" >21.00%</td>\n",
              "                        <td id=\"T_fa8de30e_8509_11eb_a2b3_0242ac1c0002row3_col1\" class=\"data row3 col1\" >0.00%</td>\n",
              "            </tr>\n",
              "            <tr>\n",
              "                        <th id=\"T_fa8de30e_8509_11eb_a2b3_0242ac1c0002level0_row4\" class=\"row_heading level0 row4\" >(1000000, 2000000)</th>\n",
              "                        <td id=\"T_fa8de30e_8509_11eb_a2b3_0242ac1c0002row4_col0\" class=\"data row4 col0\" >20.56%</td>\n",
              "                        <td id=\"T_fa8de30e_8509_11eb_a2b3_0242ac1c0002row4_col1\" class=\"data row4 col1\" >-1.57%</td>\n",
              "            </tr>\n",
              "            <tr>\n",
              "                        <th id=\"T_fa8de30e_8509_11eb_a2b3_0242ac1c0002level0_row5\" class=\"row_heading level0 row5\" >(2000000, 5000000)</th>\n",
              "                        <td id=\"T_fa8de30e_8509_11eb_a2b3_0242ac1c0002row5_col0\" class=\"data row5 col0\" >24.24%</td>\n",
              "                        <td id=\"T_fa8de30e_8509_11eb_a2b3_0242ac1c0002row5_col1\" class=\"data row5 col1\" >0.00%</td>\n",
              "            </tr>\n",
              "            <tr>\n",
              "                        <th id=\"T_fa8de30e_8509_11eb_a2b3_0242ac1c0002level0_row6\" class=\"row_heading level0 row6\" >(5000000,)</th>\n",
              "                        <td id=\"T_fa8de30e_8509_11eb_a2b3_0242ac1c0002row6_col0\" class=\"data row6 col0\" >30.04%</td>\n",
              "                        <td id=\"T_fa8de30e_8509_11eb_a2b3_0242ac1c0002row6_col1\" class=\"data row6 col1\" >11.53%</td>\n",
              "            </tr>\n",
              "    </tbody></table>"
            ],
            "text/plain": [
              "<pandas.io.formats.style.Styler at 0x7fe3faad4050>"
            ]
          },
          "metadata": {
            "tags": []
          },
          "execution_count": 82
        }
      ]
    }
  ]
}